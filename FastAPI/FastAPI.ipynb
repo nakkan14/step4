{
 "cells": [
  {
   "cell_type": "markdown",
   "id": "4980b02d",
   "metadata": {},
   "source": [
    "# "
   ]
  },
  {
   "cell_type": "markdown",
   "id": "7fe8fee2",
   "metadata": {},
   "source": [
    "# 3. API Requestの準備"
   ]
  },
  {
   "cell_type": "code",
   "execution_count": 55,
   "id": "f0a02d80",
   "metadata": {},
   "outputs": [],
   "source": [
    "import requests  # import"
   ]
  },
  {
   "cell_type": "code",
   "execution_count": 61,
   "id": "e3b0efb9",
   "metadata": {},
   "outputs": [],
   "source": [
    "##End pointの設定　  -    port + \"/double\"\n",
    "FastAPI_url = 'http://127.0.0.1:8001/aho'  # FastAPI /  port 8001"
   ]
  },
  {
   "cell_type": "markdown",
   "id": "4f1f1d68",
   "metadata": {},
   "source": [
    "# "
   ]
  },
  {
   "cell_type": "markdown",
   "id": "b8a8eef6",
   "metadata": {},
   "source": [
    "# 4. API document / リクエストボディの作成"
   ]
  },
  {
   "cell_type": "markdown",
   "id": "689ca629",
   "metadata": {},
   "source": [
    "## FastAPIのDocs確認"
   ]
  },
  {
   "cell_type": "code",
   "execution_count": 62,
   "id": "40d89471",
   "metadata": {},
   "outputs": [],
   "source": [
    "# FastAPI / API docs通りにリクエストボディ（body）を作成。\n",
    "body = {\n",
    "    \"number\" : 3\n",
    "}"
   ]
  },
  {
   "cell_type": "markdown",
   "id": "a368d80d",
   "metadata": {},
   "source": [
    "# "
   ]
  },
  {
   "cell_type": "markdown",
   "id": "2baf5abd",
   "metadata": {},
   "source": [
    "# POST & Responseの確認（正常パターン）"
   ]
  },
  {
   "cell_type": "markdown",
   "id": "d907f26e",
   "metadata": {},
   "source": [
    "##   2-2.FastAPI"
   ]
  },
  {
   "cell_type": "code",
   "execution_count": 63,
   "id": "4cf70cf9",
   "metadata": {},
   "outputs": [],
   "source": [
    "res_fastapi = requests.post(FastAPI_url,json = body)  #Endpointは\"FastAPI_url\"を指定"
   ]
  },
  {
   "cell_type": "code",
   "execution_count": 64,
   "id": "12bbdccb",
   "metadata": {},
   "outputs": [
    {
     "data": {
      "text/plain": [
       "<Response [200]>"
      ]
     },
     "execution_count": 64,
     "metadata": {},
     "output_type": "execute_result"
    }
   ],
   "source": [
    "res_fastapi "
   ]
  },
  {
   "cell_type": "code",
   "execution_count": 65,
   "id": "78b85fcc",
   "metadata": {
    "scrolled": true
   },
   "outputs": [
    {
     "data": {
      "text/plain": [
       "{'message': '3(○дο)'}"
      ]
     },
     "execution_count": 65,
     "metadata": {},
     "output_type": "execute_result"
    }
   ],
   "source": [
    "res_fastapi .json()"
   ]
  },
  {
   "cell_type": "markdown",
   "id": "4576d3da",
   "metadata": {},
   "source": [
    "### 3の倍数か３のつく数字の時にアホになるAPI"
   ]
  },
  {
   "cell_type": "markdown",
   "id": "09d17f05",
   "metadata": {},
   "source": [
    "# "
   ]
  },
  {
   "cell_type": "markdown",
   "id": "0bdb7a44",
   "metadata": {},
   "source": [
    "# "
   ]
  }
 ],
 "metadata": {
  "kernelspec": {
   "display_name": "Python 3 (ipykernel)",
   "language": "python",
   "name": "python3"
  },
  "language_info": {
   "codemirror_mode": {
    "name": "ipython",
    "version": 3
   },
   "file_extension": ".py",
   "mimetype": "text/x-python",
   "name": "python",
   "nbconvert_exporter": "python",
   "pygments_lexer": "ipython3",
   "version": "3.10.9"
  }
 },
 "nbformat": 4,
 "nbformat_minor": 5
}
